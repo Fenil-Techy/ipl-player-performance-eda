{
 "cells": [
  {
   "metadata": {},
   "cell_type": "markdown",
   "source": [
    "# This is a sample Jupyter Notebook\n",
    "\n",
    "Below is an example of a code cell. \n",
    "Put your cursor into the cell and press Shift+Enter to execute it and select the next one, or click 'Run Cell' button.\n",
    "\n",
    "Press Double Shift to search everywhere for classes, files, tool windows, actions, and settings.\n",
    "\n",
    "To learn more about Jupyter Notebooks in PyCharm, see [help](https://www.jetbrains.com/help/pycharm/ipython-notebook-support.html).\n",
    "For an overview of PyCharm, go to Help -> Learn IDE features or refer to [our documentation](https://www.jetbrains.com/help/pycharm/getting-started.html)."
   ],
   "id": "8a77807f92f26ee"
  },
  {
   "metadata": {
    "ExecuteTime": {
     "end_time": "2025-05-31T09:42:07.693677Z",
     "start_time": "2025-05-31T09:42:07.672884Z"
    }
   },
   "cell_type": "code",
   "source": [
    "import pandas as pd\n",
    "df=pd.read_csv(\"data/ipl_data.csv\")\n",
    "print(df)\n"
   ],
   "id": "fbc121e30a2defb3",
   "outputs": [
    {
     "name": "stdout",
     "output_type": "stream",
     "text": [
      "          Year             Player_Name Matches_Batted  Not_Outs Runs_Scored  \\\n",
      "0         2024         Ruturaj Gaikwad              2         0          61   \n",
      "1         2023         Ruturaj Gaikwad             16         1         590   \n",
      "2         2022         Ruturaj Gaikwad             14         0         368   \n",
      "3         2021         Ruturaj Gaikwad             16         2         635   \n",
      "4         2020         Ruturaj Gaikwad              6         2         204   \n",
      "...        ...                     ...            ...       ...         ...   \n",
      "1167      2022         Mayank Markande              2         0           0   \n",
      "1168      2021         Mayank Markande              1         0           0   \n",
      "1169      2019         Mayank Markande              3         1           6   \n",
      "1170      2018         Mayank Markande             14         4          21   \n",
      "1171  No stats  Jhathavedh Subramanyan       No stats  No stats    No stats   \n",
      "\n",
      "     Highest_Score Batting_Average Balls_Faced Batting_Strike_Rate Centuries  \\\n",
      "0               46            30.5          51              119.61         0   \n",
      "1               92           42.14         400               147.5         0   \n",
      "2               99           26.29         291              126.46         0   \n",
      "3             101*           45.35         466              136.26         1   \n",
      "4               72              51         169              120.71         0   \n",
      "...            ...             ...         ...                 ...       ...   \n",
      "1167             0               0           0                   0         0   \n",
      "1168             0            0.00           0                0.00         0   \n",
      "1169             6            6.00           5              120.00         0   \n",
      "1170            7*           10.50          24               87.50         0   \n",
      "1171      No stats        No stats    No stats            No stats  No stats   \n",
      "\n",
      "      ... Matches_Bowled Balls_Bowled Runs_Conceded Wickets_Taken  \\\n",
      "0     ...              2            0             0             0   \n",
      "1     ...             16            0             0             0   \n",
      "2     ...             14            0             0             0   \n",
      "3     ...             16            0             0             0   \n",
      "4     ...              6            0             0             0   \n",
      "...   ...            ...          ...           ...           ...   \n",
      "1167  ...              2           42            57             1   \n",
      "1168  ...              1           18            26             0   \n",
      "1169  ...              3           36            59             1   \n",
      "1170  ...             14          264           368            15   \n",
      "1171  ...       No stats     No stats      No stats      No stats   \n",
      "\n",
      "     Best_Bowling_Match Bowling_Average Economy_Rate Bowling_Strike_Rate  \\\n",
      "0                     0               0            0                   0   \n",
      "1                     0               0            0                   0   \n",
      "2                     0               0            0                   0   \n",
      "3                     0               0            0                   0   \n",
      "4                     0               0            0                   0   \n",
      "...                 ...             ...          ...                 ...   \n",
      "1167               1/26           57.00         8.14               42.00   \n",
      "1168               0/26               0         8.66                   0   \n",
      "1169               1/23           59.00         9.83               36.00   \n",
      "1170               4/23           24.53         8.36               17.60   \n",
      "1171           No stats        No stats     No stats            No stats   \n",
      "\n",
      "     Four_Wicket_Hauls Five_Wicket_Hauls  \n",
      "0                    0                 0  \n",
      "1                    0                 0  \n",
      "2                    0                 0  \n",
      "3                    0                 0  \n",
      "4                    0                 0  \n",
      "...                ...               ...  \n",
      "1167                 0                 0  \n",
      "1168                 0                 0  \n",
      "1169                 0                 0  \n",
      "1170                 1                 0  \n",
      "1171          No stats          No stats  \n",
      "\n",
      "[1172 rows x 25 columns]\n"
     ]
    }
   ],
   "execution_count": 30
  },
  {
   "metadata": {
    "ExecuteTime": {
     "end_time": "2025-05-31T09:25:04.685597Z",
     "start_time": "2025-05-31T09:25:04.672132Z"
    }
   },
   "cell_type": "code",
   "source": "df.info()",
   "id": "5fdc067e68cff3ca",
   "outputs": [
    {
     "name": "stdout",
     "output_type": "stream",
     "text": [
      "<class 'pandas.core.frame.DataFrame'>\n",
      "RangeIndex: 1172 entries, 0 to 1171\n",
      "Data columns (total 25 columns):\n",
      " #   Column               Non-Null Count  Dtype  \n",
      "---  ------               --------------  -----  \n",
      " 0   Year                 1130 non-null   Int64  \n",
      " 1   Player_Name          1172 non-null   object \n",
      " 2   Matches_Batted       1131 non-null   Int64  \n",
      " 3   Not_Outs             1131 non-null   Int64  \n",
      " 4   Runs_Scored          1131 non-null   Int64  \n",
      " 5   Highest_Score        701 non-null    Int64  \n",
      " 6   Batting_Average      1131 non-null   float64\n",
      " 7   Balls_Faced          1131 non-null   Int64  \n",
      " 8   Batting_Strike_Rate  1131 non-null   float64\n",
      " 9   Centuries            1131 non-null   Int64  \n",
      " 10  Half_Centuries       1131 non-null   Int64  \n",
      " 11  Fours                1131 non-null   Int64  \n",
      " 12  Sixes                1131 non-null   Int64  \n",
      " 13  Catches_Taken        1131 non-null   Int64  \n",
      " 14  Stumpings            1131 non-null   Int64  \n",
      " 15  Matches_Bowled       1130 non-null   Int64  \n",
      " 16  Balls_Bowled         1130 non-null   Int64  \n",
      " 17  Runs_Conceded        1130 non-null   Int64  \n",
      " 18  Wickets_Taken        1130 non-null   Int64  \n",
      " 19  Best_Bowling_Match   1172 non-null   object \n",
      " 20  Bowling_Average      1130 non-null   float64\n",
      " 21  Economy_Rate         1130 non-null   float64\n",
      " 22  Bowling_Strike_Rate  1130 non-null   float64\n",
      " 23  Four_Wicket_Hauls    1130 non-null   Int64  \n",
      " 24  Five_Wicket_Hauls    1130 non-null   Int64  \n",
      "dtypes: Int64(18), float64(5), object(2)\n",
      "memory usage: 249.6+ KB\n"
     ]
    }
   ],
   "execution_count": 15
  },
  {
   "metadata": {
    "ExecuteTime": {
     "end_time": "2025-05-31T09:45:07.745276Z",
     "start_time": "2025-05-31T09:45:07.730811Z"
    }
   },
   "cell_type": "code",
   "source": [
    "list=[\"Batting_Strike_Rate\",\"Batting_Average\",\"Bowling_Average\",\"Economy_Rate\",\"Bowling_Strike_Rate\"]\n",
    "for col in list:\n",
    "        df[col]=pd.to_numeric(df[col],errors='coerce').astype(\"float\")"
   ],
   "id": "14eb5733c10676bd",
   "outputs": [],
   "execution_count": 35
  },
  {
   "metadata": {
    "ExecuteTime": {
     "end_time": "2025-05-31T09:45:10.674106Z",
     "start_time": "2025-05-31T09:45:10.638301Z"
    }
   },
   "cell_type": "code",
   "source": [
    "list2=[\"Year\",\"Matches_Batted\",\"Not_Outs\",\"Runs_Scored\",\"Balls_Faced\",\"Centuries\",\"Half_Centuries\",\"Fours\",\"Sixes\",\"Catches_Taken\",\"Stumpings\",\"Matches_Bowled\",\"Balls_Bowled\",\"Runs_Conceded\",\"Wickets_Taken\",\"Four_Wicket_Hauls\",\"Five_Wicket_Hauls\"]\n",
    "for col in list2:\n",
    "    df[col]=pd.to_numeric(df[col],errors='coerce').astype(\"Int64\")"
   ],
   "id": "59cdb11cacc8b1b6",
   "outputs": [],
   "execution_count": 36
  },
  {
   "metadata": {
    "ExecuteTime": {
     "end_time": "2025-05-31T09:45:12.760814Z",
     "start_time": "2025-05-31T09:45:12.688111Z"
    }
   },
   "cell_type": "code",
   "source": [
    "print(\"Shape:\", df.shape)\n",
    "print(df.head())\n",
    "df.info()\n",
    "df.describe()\n"
   ],
   "id": "53c9387375feec2a",
   "outputs": [
    {
     "name": "stdout",
     "output_type": "stream",
     "text": [
      "Shape: (1172, 26)\n",
      "   Year      Player_Name  Matches_Batted  Not_Outs  Runs_Scored  \\\n",
      "0  2024  Ruturaj Gaikwad               2         0           61   \n",
      "1  2023  Ruturaj Gaikwad              16         1          590   \n",
      "2  2022  Ruturaj Gaikwad              14         0          368   \n",
      "3  2021  Ruturaj Gaikwad              16         2          635   \n",
      "4  2020  Ruturaj Gaikwad               6         2          204   \n",
      "\n",
      "   Highest_Score  Batting_Average  Balls_Faced  Batting_Strike_Rate  \\\n",
      "0             46            30.50           51               119.61   \n",
      "1             92            42.14          400               147.50   \n",
      "2             99            26.29          291               126.46   \n",
      "3            101            45.35          466               136.26   \n",
      "4             72            51.00          169               120.71   \n",
      "\n",
      "   Centuries  ...  Balls_Bowled  Runs_Conceded  Wickets_Taken  \\\n",
      "0          0  ...             0              0              0   \n",
      "1          0  ...             0              0              0   \n",
      "2          0  ...             0              0              0   \n",
      "3          1  ...             0              0              0   \n",
      "4          0  ...             0              0              0   \n",
      "\n",
      "   Best_Bowling_Match  Bowling_Average  Economy_Rate  Bowling_Strike_Rate  \\\n",
      "0                   0              0.0           0.0                  0.0   \n",
      "1                   0              0.0           0.0                  0.0   \n",
      "2                   0              0.0           0.0                  0.0   \n",
      "3                   0              0.0           0.0                  0.0   \n",
      "4                   0              0.0           0.0                  0.0   \n",
      "\n",
      "   Four_Wicket_Hauls  Five_Wicket_Hauls Highest_Score_Clean  \n",
      "0                  0                  0                  46  \n",
      "1                  0                  0                  92  \n",
      "2                  0                  0                  99  \n",
      "3                  0                  0                 101  \n",
      "4                  0                  0                  72  \n",
      "\n",
      "[5 rows x 26 columns]\n",
      "<class 'pandas.core.frame.DataFrame'>\n",
      "RangeIndex: 1172 entries, 0 to 1171\n",
      "Data columns (total 26 columns):\n",
      " #   Column               Non-Null Count  Dtype  \n",
      "---  ------               --------------  -----  \n",
      " 0   Year                 1130 non-null   Int64  \n",
      " 1   Player_Name          1172 non-null   object \n",
      " 2   Matches_Batted       1131 non-null   Int64  \n",
      " 3   Not_Outs             1131 non-null   Int64  \n",
      " 4   Runs_Scored          1131 non-null   Int64  \n",
      " 5   Highest_Score        1131 non-null   Int64  \n",
      " 6   Batting_Average      1131 non-null   float64\n",
      " 7   Balls_Faced          1131 non-null   Int64  \n",
      " 8   Batting_Strike_Rate  1131 non-null   float64\n",
      " 9   Centuries            1131 non-null   Int64  \n",
      " 10  Half_Centuries       1131 non-null   Int64  \n",
      " 11  Fours                1131 non-null   Int64  \n",
      " 12  Sixes                1131 non-null   Int64  \n",
      " 13  Catches_Taken        1131 non-null   Int64  \n",
      " 14  Stumpings            1131 non-null   Int64  \n",
      " 15  Matches_Bowled       1130 non-null   Int64  \n",
      " 16  Balls_Bowled         1130 non-null   Int64  \n",
      " 17  Runs_Conceded        1130 non-null   Int64  \n",
      " 18  Wickets_Taken        1130 non-null   Int64  \n",
      " 19  Best_Bowling_Match   1172 non-null   object \n",
      " 20  Bowling_Average      1130 non-null   float64\n",
      " 21  Economy_Rate         1130 non-null   float64\n",
      " 22  Bowling_Strike_Rate  1130 non-null   float64\n",
      " 23  Four_Wicket_Hauls    1130 non-null   Int64  \n",
      " 24  Five_Wicket_Hauls    1130 non-null   Int64  \n",
      " 25  Highest_Score_Clean  1131 non-null   Int64  \n",
      "dtypes: Int64(19), float64(5), object(2)\n",
      "memory usage: 259.9+ KB\n"
     ]
    },
    {
     "data": {
      "text/plain": [
       "              Year  Matches_Batted  Not_Outs  Runs_Scored  Highest_Score  \\\n",
       "count       1130.0          1131.0    1131.0       1131.0         1131.0   \n",
       "mean   2019.233628        9.008842  1.486295   132.136163      33.212202   \n",
       "std         3.9925         5.53156  1.697092   171.030647       32.43882   \n",
       "min         2008.0             0.0       0.0          0.0            0.0   \n",
       "25%         2017.0             3.0       0.0          5.0            4.0   \n",
       "50%         2020.0            10.0       1.0         42.0           23.0   \n",
       "75%        2022.75            14.0       2.0        227.0           58.0   \n",
       "max         2024.0            19.0      10.0        973.0          140.0   \n",
       "\n",
       "       Batting_Average  Balls_Faced  Batting_Strike_Rate  Centuries  \\\n",
       "count      1131.000000       1131.0          1131.000000     1131.0   \n",
       "mean         17.427339     98.55084           102.224527    0.04244   \n",
       "std          16.531119   122.665593            59.236857    0.26932   \n",
       "min           0.000000          0.0             0.000000        0.0   \n",
       "25%           1.000000          6.0            65.975000        0.0   \n",
       "50%          14.550000         38.0           118.900000        0.0   \n",
       "75%          28.275000        167.0           139.820000        0.0   \n",
       "max         101.000000        640.0           400.000000        4.0   \n",
       "\n",
       "       Half_Centuries  ...  Matches_Bowled  Balls_Bowled  Runs_Conceded  \\\n",
       "count          1131.0  ...          1130.0        1130.0         1130.0   \n",
       "mean         0.734748  ...        9.049558     92.946903     125.013274   \n",
       "std          1.382707  ...        5.516159    118.389409     153.815733   \n",
       "min               0.0  ...             0.0           0.0            0.0   \n",
       "25%               0.0  ...             3.0           0.0            0.0   \n",
       "50%               0.0  ...            10.0          27.0           44.5   \n",
       "75%               1.0  ...            14.0        168.75          236.0   \n",
       "max               9.0  ...            19.0         408.0          564.0   \n",
       "\n",
       "       Wickets_Taken  Bowling_Average  Economy_Rate  Bowling_Strike_Rate  \\\n",
       "count         1130.0      1130.000000   1130.000000          1130.000000   \n",
       "mean        4.459292        18.572442      5.471097            13.050177   \n",
       "std         6.363274        23.806204      4.568269            15.710709   \n",
       "min              0.0         0.000000      0.000000             0.000000   \n",
       "25%              0.0         0.000000      0.000000             0.000000   \n",
       "50%              1.0        15.340000      7.250000            12.000000   \n",
       "75%              8.0        29.382500      8.800000            21.967500   \n",
       "max             32.0       189.000000     36.000000           120.000000   \n",
       "\n",
       "       Four_Wicket_Hauls  Five_Wicket_Hauls  Highest_Score_Clean  \n",
       "count             1130.0             1130.0               1131.0  \n",
       "mean            0.079646           0.017699            33.212202  \n",
       "std             0.310478           0.131914             32.43882  \n",
       "min                  0.0                0.0                  0.0  \n",
       "25%                  0.0                0.0                  4.0  \n",
       "50%                  0.0                0.0                 23.0  \n",
       "75%                  0.0                0.0                 58.0  \n",
       "max                  3.0                1.0                140.0  \n",
       "\n",
       "[8 rows x 24 columns]"
      ],
      "text/html": [
       "<div>\n",
       "<style scoped>\n",
       "    .dataframe tbody tr th:only-of-type {\n",
       "        vertical-align: middle;\n",
       "    }\n",
       "\n",
       "    .dataframe tbody tr th {\n",
       "        vertical-align: top;\n",
       "    }\n",
       "\n",
       "    .dataframe thead th {\n",
       "        text-align: right;\n",
       "    }\n",
       "</style>\n",
       "<table border=\"1\" class=\"dataframe\">\n",
       "  <thead>\n",
       "    <tr style=\"text-align: right;\">\n",
       "      <th></th>\n",
       "      <th>Year</th>\n",
       "      <th>Matches_Batted</th>\n",
       "      <th>Not_Outs</th>\n",
       "      <th>Runs_Scored</th>\n",
       "      <th>Highest_Score</th>\n",
       "      <th>Batting_Average</th>\n",
       "      <th>Balls_Faced</th>\n",
       "      <th>Batting_Strike_Rate</th>\n",
       "      <th>Centuries</th>\n",
       "      <th>Half_Centuries</th>\n",
       "      <th>...</th>\n",
       "      <th>Matches_Bowled</th>\n",
       "      <th>Balls_Bowled</th>\n",
       "      <th>Runs_Conceded</th>\n",
       "      <th>Wickets_Taken</th>\n",
       "      <th>Bowling_Average</th>\n",
       "      <th>Economy_Rate</th>\n",
       "      <th>Bowling_Strike_Rate</th>\n",
       "      <th>Four_Wicket_Hauls</th>\n",
       "      <th>Five_Wicket_Hauls</th>\n",
       "      <th>Highest_Score_Clean</th>\n",
       "    </tr>\n",
       "  </thead>\n",
       "  <tbody>\n",
       "    <tr>\n",
       "      <th>count</th>\n",
       "      <td>1130.0</td>\n",
       "      <td>1131.0</td>\n",
       "      <td>1131.0</td>\n",
       "      <td>1131.0</td>\n",
       "      <td>1131.0</td>\n",
       "      <td>1131.000000</td>\n",
       "      <td>1131.0</td>\n",
       "      <td>1131.000000</td>\n",
       "      <td>1131.0</td>\n",
       "      <td>1131.0</td>\n",
       "      <td>...</td>\n",
       "      <td>1130.0</td>\n",
       "      <td>1130.0</td>\n",
       "      <td>1130.0</td>\n",
       "      <td>1130.0</td>\n",
       "      <td>1130.000000</td>\n",
       "      <td>1130.000000</td>\n",
       "      <td>1130.000000</td>\n",
       "      <td>1130.0</td>\n",
       "      <td>1130.0</td>\n",
       "      <td>1131.0</td>\n",
       "    </tr>\n",
       "    <tr>\n",
       "      <th>mean</th>\n",
       "      <td>2019.233628</td>\n",
       "      <td>9.008842</td>\n",
       "      <td>1.486295</td>\n",
       "      <td>132.136163</td>\n",
       "      <td>33.212202</td>\n",
       "      <td>17.427339</td>\n",
       "      <td>98.55084</td>\n",
       "      <td>102.224527</td>\n",
       "      <td>0.04244</td>\n",
       "      <td>0.734748</td>\n",
       "      <td>...</td>\n",
       "      <td>9.049558</td>\n",
       "      <td>92.946903</td>\n",
       "      <td>125.013274</td>\n",
       "      <td>4.459292</td>\n",
       "      <td>18.572442</td>\n",
       "      <td>5.471097</td>\n",
       "      <td>13.050177</td>\n",
       "      <td>0.079646</td>\n",
       "      <td>0.017699</td>\n",
       "      <td>33.212202</td>\n",
       "    </tr>\n",
       "    <tr>\n",
       "      <th>std</th>\n",
       "      <td>3.9925</td>\n",
       "      <td>5.53156</td>\n",
       "      <td>1.697092</td>\n",
       "      <td>171.030647</td>\n",
       "      <td>32.43882</td>\n",
       "      <td>16.531119</td>\n",
       "      <td>122.665593</td>\n",
       "      <td>59.236857</td>\n",
       "      <td>0.26932</td>\n",
       "      <td>1.382707</td>\n",
       "      <td>...</td>\n",
       "      <td>5.516159</td>\n",
       "      <td>118.389409</td>\n",
       "      <td>153.815733</td>\n",
       "      <td>6.363274</td>\n",
       "      <td>23.806204</td>\n",
       "      <td>4.568269</td>\n",
       "      <td>15.710709</td>\n",
       "      <td>0.310478</td>\n",
       "      <td>0.131914</td>\n",
       "      <td>32.43882</td>\n",
       "    </tr>\n",
       "    <tr>\n",
       "      <th>min</th>\n",
       "      <td>2008.0</td>\n",
       "      <td>0.0</td>\n",
       "      <td>0.0</td>\n",
       "      <td>0.0</td>\n",
       "      <td>0.0</td>\n",
       "      <td>0.000000</td>\n",
       "      <td>0.0</td>\n",
       "      <td>0.000000</td>\n",
       "      <td>0.0</td>\n",
       "      <td>0.0</td>\n",
       "      <td>...</td>\n",
       "      <td>0.0</td>\n",
       "      <td>0.0</td>\n",
       "      <td>0.0</td>\n",
       "      <td>0.0</td>\n",
       "      <td>0.000000</td>\n",
       "      <td>0.000000</td>\n",
       "      <td>0.000000</td>\n",
       "      <td>0.0</td>\n",
       "      <td>0.0</td>\n",
       "      <td>0.0</td>\n",
       "    </tr>\n",
       "    <tr>\n",
       "      <th>25%</th>\n",
       "      <td>2017.0</td>\n",
       "      <td>3.0</td>\n",
       "      <td>0.0</td>\n",
       "      <td>5.0</td>\n",
       "      <td>4.0</td>\n",
       "      <td>1.000000</td>\n",
       "      <td>6.0</td>\n",
       "      <td>65.975000</td>\n",
       "      <td>0.0</td>\n",
       "      <td>0.0</td>\n",
       "      <td>...</td>\n",
       "      <td>3.0</td>\n",
       "      <td>0.0</td>\n",
       "      <td>0.0</td>\n",
       "      <td>0.0</td>\n",
       "      <td>0.000000</td>\n",
       "      <td>0.000000</td>\n",
       "      <td>0.000000</td>\n",
       "      <td>0.0</td>\n",
       "      <td>0.0</td>\n",
       "      <td>4.0</td>\n",
       "    </tr>\n",
       "    <tr>\n",
       "      <th>50%</th>\n",
       "      <td>2020.0</td>\n",
       "      <td>10.0</td>\n",
       "      <td>1.0</td>\n",
       "      <td>42.0</td>\n",
       "      <td>23.0</td>\n",
       "      <td>14.550000</td>\n",
       "      <td>38.0</td>\n",
       "      <td>118.900000</td>\n",
       "      <td>0.0</td>\n",
       "      <td>0.0</td>\n",
       "      <td>...</td>\n",
       "      <td>10.0</td>\n",
       "      <td>27.0</td>\n",
       "      <td>44.5</td>\n",
       "      <td>1.0</td>\n",
       "      <td>15.340000</td>\n",
       "      <td>7.250000</td>\n",
       "      <td>12.000000</td>\n",
       "      <td>0.0</td>\n",
       "      <td>0.0</td>\n",
       "      <td>23.0</td>\n",
       "    </tr>\n",
       "    <tr>\n",
       "      <th>75%</th>\n",
       "      <td>2022.75</td>\n",
       "      <td>14.0</td>\n",
       "      <td>2.0</td>\n",
       "      <td>227.0</td>\n",
       "      <td>58.0</td>\n",
       "      <td>28.275000</td>\n",
       "      <td>167.0</td>\n",
       "      <td>139.820000</td>\n",
       "      <td>0.0</td>\n",
       "      <td>1.0</td>\n",
       "      <td>...</td>\n",
       "      <td>14.0</td>\n",
       "      <td>168.75</td>\n",
       "      <td>236.0</td>\n",
       "      <td>8.0</td>\n",
       "      <td>29.382500</td>\n",
       "      <td>8.800000</td>\n",
       "      <td>21.967500</td>\n",
       "      <td>0.0</td>\n",
       "      <td>0.0</td>\n",
       "      <td>58.0</td>\n",
       "    </tr>\n",
       "    <tr>\n",
       "      <th>max</th>\n",
       "      <td>2024.0</td>\n",
       "      <td>19.0</td>\n",
       "      <td>10.0</td>\n",
       "      <td>973.0</td>\n",
       "      <td>140.0</td>\n",
       "      <td>101.000000</td>\n",
       "      <td>640.0</td>\n",
       "      <td>400.000000</td>\n",
       "      <td>4.0</td>\n",
       "      <td>9.0</td>\n",
       "      <td>...</td>\n",
       "      <td>19.0</td>\n",
       "      <td>408.0</td>\n",
       "      <td>564.0</td>\n",
       "      <td>32.0</td>\n",
       "      <td>189.000000</td>\n",
       "      <td>36.000000</td>\n",
       "      <td>120.000000</td>\n",
       "      <td>3.0</td>\n",
       "      <td>1.0</td>\n",
       "      <td>140.0</td>\n",
       "    </tr>\n",
       "  </tbody>\n",
       "</table>\n",
       "<p>8 rows × 24 columns</p>\n",
       "</div>"
      ]
     },
     "execution_count": 37,
     "metadata": {},
     "output_type": "execute_result"
    }
   ],
   "execution_count": 37
  },
  {
   "metadata": {
    "ExecuteTime": {
     "end_time": "2025-05-31T09:44:22.280912Z",
     "start_time": "2025-05-31T09:44:22.268022Z"
    }
   },
   "cell_type": "code",
   "source": [
    "import pandas as pd\n",
    "\n",
    "# Example: clean 'Highest_Score' column\n",
    "df[\"Highest_Score\"] = (\n",
    "    df[\"Highest_Score\"]\n",
    "    .astype(str)                              # ensure it's string\n",
    "    .str.extract('(\\d+)')                     # extract only the number part\n",
    "    .astype(\"Int64\")                          # convert to integer (nullable)\n",
    ")\n"
   ],
   "id": "ab07ae2a1ca2e3da",
   "outputs": [
    {
     "name": "stderr",
     "output_type": "stream",
     "text": [
      "<>:7: SyntaxWarning: invalid escape sequence '\\d'\n",
      "<>:7: SyntaxWarning: invalid escape sequence '\\d'\n",
      "C:\\Users\\fenil\\AppData\\Local\\Temp\\ipykernel_13396\\1061027038.py:7: SyntaxWarning: invalid escape sequence '\\d'\n",
      "  .str.extract('(\\d+)')                     # extract only the number part\n"
     ]
    }
   ],
   "execution_count": 33
  },
  {
   "metadata": {
    "ExecuteTime": {
     "end_time": "2025-05-31T09:44:25.954961Z",
     "start_time": "2025-05-31T09:44:25.939442Z"
    }
   },
   "cell_type": "code",
   "source": "df.info()",
   "id": "16a35feaf956536",
   "outputs": [
    {
     "name": "stdout",
     "output_type": "stream",
     "text": [
      "<class 'pandas.core.frame.DataFrame'>\n",
      "RangeIndex: 1172 entries, 0 to 1171\n",
      "Data columns (total 26 columns):\n",
      " #   Column               Non-Null Count  Dtype \n",
      "---  ------               --------------  ----- \n",
      " 0   Year                 1172 non-null   object\n",
      " 1   Player_Name          1172 non-null   object\n",
      " 2   Matches_Batted       1172 non-null   object\n",
      " 3   Not_Outs             1172 non-null   object\n",
      " 4   Runs_Scored          1172 non-null   object\n",
      " 5   Highest_Score        1131 non-null   Int64 \n",
      " 6   Batting_Average      1172 non-null   object\n",
      " 7   Balls_Faced          1172 non-null   object\n",
      " 8   Batting_Strike_Rate  1172 non-null   object\n",
      " 9   Centuries            1172 non-null   object\n",
      " 10  Half_Centuries       1172 non-null   object\n",
      " 11  Fours                1172 non-null   object\n",
      " 12  Sixes                1172 non-null   object\n",
      " 13  Catches_Taken        1172 non-null   object\n",
      " 14  Stumpings            1172 non-null   object\n",
      " 15  Matches_Bowled       1172 non-null   object\n",
      " 16  Balls_Bowled         1172 non-null   object\n",
      " 17  Runs_Conceded        1172 non-null   object\n",
      " 18  Wickets_Taken        1172 non-null   object\n",
      " 19  Best_Bowling_Match   1172 non-null   object\n",
      " 20  Bowling_Average      1172 non-null   object\n",
      " 21  Economy_Rate         1172 non-null   object\n",
      " 22  Bowling_Strike_Rate  1172 non-null   object\n",
      " 23  Four_Wicket_Hauls    1172 non-null   object\n",
      " 24  Five_Wicket_Hauls    1172 non-null   object\n",
      " 25  Highest_Score_Clean  1131 non-null   Int64 \n",
      "dtypes: Int64(2), object(24)\n",
      "memory usage: 240.5+ KB\n"
     ]
    }
   ],
   "execution_count": 34
  },
  {
   "metadata": {
    "ExecuteTime": {
     "end_time": "2025-05-31T09:45:25.689234Z",
     "start_time": "2025-05-31T09:45:25.679562Z"
    }
   },
   "cell_type": "code",
   "source": "df.isnull().sum()",
   "id": "2fe2f193fed1774",
   "outputs": [
    {
     "data": {
      "text/plain": [
       "Year                   42\n",
       "Player_Name             0\n",
       "Matches_Batted         41\n",
       "Not_Outs               41\n",
       "Runs_Scored            41\n",
       "Highest_Score          41\n",
       "Batting_Average        41\n",
       "Balls_Faced            41\n",
       "Batting_Strike_Rate    41\n",
       "Centuries              41\n",
       "Half_Centuries         41\n",
       "Fours                  41\n",
       "Sixes                  41\n",
       "Catches_Taken          41\n",
       "Stumpings              41\n",
       "Matches_Bowled         42\n",
       "Balls_Bowled           42\n",
       "Runs_Conceded          42\n",
       "Wickets_Taken          42\n",
       "Best_Bowling_Match      0\n",
       "Bowling_Average        42\n",
       "Economy_Rate           42\n",
       "Bowling_Strike_Rate    42\n",
       "Four_Wicket_Hauls      42\n",
       "Five_Wicket_Hauls      42\n",
       "Highest_Score_Clean    41\n",
       "dtype: int64"
      ]
     },
     "execution_count": 38,
     "metadata": {},
     "output_type": "execute_result"
    }
   ],
   "execution_count": 38
  },
  {
   "metadata": {
    "ExecuteTime": {
     "end_time": "2025-05-31T09:46:25.411116Z",
     "start_time": "2025-05-31T09:46:25.402938Z"
    }
   },
   "cell_type": "code",
   "source": "df.fillna(0, inplace=True)",
   "id": "c6af041e80cc3089",
   "outputs": [],
   "execution_count": 39
  },
  {
   "metadata": {
    "ExecuteTime": {
     "end_time": "2025-05-31T09:46:32.939539Z",
     "start_time": "2025-05-31T09:46:32.930283Z"
    }
   },
   "cell_type": "code",
   "source": "df.isnull().sum()",
   "id": "cda3743d9675b6d1",
   "outputs": [
    {
     "data": {
      "text/plain": [
       "Year                   0\n",
       "Player_Name            0\n",
       "Matches_Batted         0\n",
       "Not_Outs               0\n",
       "Runs_Scored            0\n",
       "Highest_Score          0\n",
       "Batting_Average        0\n",
       "Balls_Faced            0\n",
       "Batting_Strike_Rate    0\n",
       "Centuries              0\n",
       "Half_Centuries         0\n",
       "Fours                  0\n",
       "Sixes                  0\n",
       "Catches_Taken          0\n",
       "Stumpings              0\n",
       "Matches_Bowled         0\n",
       "Balls_Bowled           0\n",
       "Runs_Conceded          0\n",
       "Wickets_Taken          0\n",
       "Best_Bowling_Match     0\n",
       "Bowling_Average        0\n",
       "Economy_Rate           0\n",
       "Bowling_Strike_Rate    0\n",
       "Four_Wicket_Hauls      0\n",
       "Five_Wicket_Hauls      0\n",
       "Highest_Score_Clean    0\n",
       "dtype: int64"
      ]
     },
     "execution_count": 40,
     "metadata": {},
     "output_type": "execute_result"
    }
   ],
   "execution_count": 40
  },
  {
   "metadata": {
    "ExecuteTime": {
     "end_time": "2025-05-31T09:57:35.329671Z",
     "start_time": "2025-05-31T09:57:35.315848Z"
    }
   },
   "cell_type": "code",
   "source": [
    "top_scorer=(\n",
    "    df.groupby(\"Player_Name\")[\"Runs_Scored\"]\n",
    "    .sum()\n",
    "    .sort_values(ascending=False)\n",
    "    .head(10)\n",
    "    .reset_index()\n",
    ")\n",
    "print(top_scorer)"
   ],
   "id": "89df674c0e75dfe4",
   "outputs": [
    {
     "name": "stdout",
     "output_type": "stream",
     "text": [
      "      Player_Name  Runs_Scored\n",
      "0     Virat Kohli         7361\n",
      "1  Shikhar Dhawan         6684\n",
      "2    David Warner         6426\n",
      "3    Rohit Sharma         6254\n",
      "4        MS Dhoni         5082\n",
      "5  Dinesh Karthik         4582\n",
      "6  Ajinkya Rahane         4439\n",
      "7        KL Rahul         4221\n",
      "8  Faf du Plessis         4171\n",
      "9    Sanju Samson         3970\n"
     ]
    }
   ],
   "execution_count": 41
  },
  {
   "metadata": {
    "ExecuteTime": {
     "end_time": "2025-05-31T10:10:34.207227Z",
     "start_time": "2025-05-31T10:10:34.200540Z"
    }
   },
   "cell_type": "code",
   "source": "df[\"Best_Bowling_Match\"].tail(10)",
   "id": "e499ad5d4a5bf210",
   "outputs": [
    {
     "data": {
      "text/plain": [
       "1162        2/32\n",
       "1163        5/25\n",
       "1164        1/21\n",
       "1165        2/39\n",
       "1166        4/15\n",
       "1167        1/26\n",
       "1168        0/26\n",
       "1169        1/23\n",
       "1170        4/23\n",
       "1171    No stats\n",
       "Name: Best_Bowling_Match, dtype: object"
      ]
     },
     "execution_count": 45,
     "metadata": {},
     "output_type": "execute_result"
    }
   ],
   "execution_count": 45
  },
  {
   "metadata": {
    "ExecuteTime": {
     "end_time": "2025-05-31T10:09:52.379242Z",
     "start_time": "2025-05-31T10:09:52.363543Z"
    }
   },
   "cell_type": "code",
   "source": "print(df)",
   "id": "e47814b7529679ba",
   "outputs": [
    {
     "name": "stdout",
     "output_type": "stream",
     "text": [
      "      Year             Player_Name  Matches_Batted  Not_Outs  Runs_Scored  \\\n",
      "0     2024         Ruturaj Gaikwad               2         0           61   \n",
      "1     2023         Ruturaj Gaikwad              16         1          590   \n",
      "2     2022         Ruturaj Gaikwad              14         0          368   \n",
      "3     2021         Ruturaj Gaikwad              16         2          635   \n",
      "4     2020         Ruturaj Gaikwad               6         2          204   \n",
      "...    ...                     ...             ...       ...          ...   \n",
      "1167  2022         Mayank Markande               2         0            0   \n",
      "1168  2021         Mayank Markande               1         0            0   \n",
      "1169  2019         Mayank Markande               3         1            6   \n",
      "1170  2018         Mayank Markande              14         4           21   \n",
      "1171     0  Jhathavedh Subramanyan               0         0            0   \n",
      "\n",
      "      Highest_Score  Batting_Average  Balls_Faced  Batting_Strike_Rate  \\\n",
      "0                46            30.50           51               119.61   \n",
      "1                92            42.14          400               147.50   \n",
      "2                99            26.29          291               126.46   \n",
      "3               101            45.35          466               136.26   \n",
      "4                72            51.00          169               120.71   \n",
      "...             ...              ...          ...                  ...   \n",
      "1167              0             0.00            0                 0.00   \n",
      "1168              0             0.00            0                 0.00   \n",
      "1169              6             6.00            5               120.00   \n",
      "1170              7            10.50           24                87.50   \n",
      "1171              0             0.00            0                 0.00   \n",
      "\n",
      "      Centuries  ...  Balls_Bowled  Runs_Conceded  Wickets_Taken  \\\n",
      "0             0  ...             0              0              0   \n",
      "1             0  ...             0              0              0   \n",
      "2             0  ...             0              0              0   \n",
      "3             1  ...             0              0              0   \n",
      "4             0  ...             0              0              0   \n",
      "...         ...  ...           ...            ...            ...   \n",
      "1167          0  ...            42             57              1   \n",
      "1168          0  ...            18             26              0   \n",
      "1169          0  ...            36             59              1   \n",
      "1170          0  ...           264            368             15   \n",
      "1171          0  ...             0              0              0   \n",
      "\n",
      "      Best_Bowling_Match  Bowling_Average  Economy_Rate  Bowling_Strike_Rate  \\\n",
      "0                      0             0.00          0.00                  0.0   \n",
      "1                      0             0.00          0.00                  0.0   \n",
      "2                      0             0.00          0.00                  0.0   \n",
      "3                      0             0.00          0.00                  0.0   \n",
      "4                      0             0.00          0.00                  0.0   \n",
      "...                  ...              ...           ...                  ...   \n",
      "1167                1/26            57.00          8.14                 42.0   \n",
      "1168                0/26             0.00          8.66                  0.0   \n",
      "1169                1/23            59.00          9.83                 36.0   \n",
      "1170                4/23            24.53          8.36                 17.6   \n",
      "1171            No stats             0.00          0.00                  0.0   \n",
      "\n",
      "      Four_Wicket_Hauls  Five_Wicket_Hauls Highest_Score_Clean  \n",
      "0                     0                  0                  46  \n",
      "1                     0                  0                  92  \n",
      "2                     0                  0                  99  \n",
      "3                     0                  0                 101  \n",
      "4                     0                  0                  72  \n",
      "...                 ...                ...                 ...  \n",
      "1167                  0                  0                   0  \n",
      "1168                  0                  0                   0  \n",
      "1169                  0                  0                   6  \n",
      "1170                  1                  0                   7  \n",
      "1171                  0                  0                   0  \n",
      "\n",
      "[1172 rows x 26 columns]\n"
     ]
    }
   ],
   "execution_count": 43
  },
  {
   "metadata": {
    "ExecuteTime": {
     "end_time": "2025-05-31T10:36:25.985830Z",
     "start_time": "2025-05-31T10:36:25.973377Z"
    }
   },
   "cell_type": "code",
   "source": [
    "filtered_df=df[df[\"Balls_Bowled\"]>30]\n",
    "consistent_bowler=filtered_df.groupby(\"Player_Name\")[\"Economy_Rate\"].mean().sort_values(ascending=True).head(10)\n",
    "print(consistent_bowler)"
   ],
   "id": "b117f4ab205c857",
   "outputs": [
    {
     "name": "stdout",
     "output_type": "stream",
     "text": [
      "Player_Name\n",
      "Prashant Solanki       6.330000\n",
      "Jayant Yadav           6.568333\n",
      "Mahipal Lomror         6.710000\n",
      "Harpreet Brar          6.762500\n",
      "Rashid Khan            6.833750\n",
      "Sunil Narine           6.838333\n",
      "Moeen Ali              6.920000\n",
      "Mitchell Santner       6.967500\n",
      "Ravichandran Ashwin    7.028462\n",
      "Mitchell Starc         7.125000\n",
      "Name: Economy_Rate, dtype: float64\n"
     ]
    }
   ],
   "execution_count": 55
  },
  {
   "metadata": {
    "ExecuteTime": {
     "end_time": "2025-05-31T10:22:02.447648Z",
     "start_time": "2025-05-31T10:22:02.432978Z"
    }
   },
   "cell_type": "code",
   "source": [
    "# Extract Wickets/Runs, keep original intact\n",
    "df[['Wickets', 'Runs_Conceded']] = df['Best_Bowling_Match'].str.extract(r'(\\d+)/(\\d+)').astype('Int64')\n",
    "\n",
    "# Sort and show best performance\n",
    "best = df.sort_values(by=[\"Wickets\", \"Runs_Conceded\"], ascending=[False, True]).head(1)\n",
    "print(best[[\"Player_Name\", \"Best_Bowling_Match\", \"Wickets\", \"Runs_Conceded\"]])\n"
   ],
   "id": "4fffb4ac650367c3",
   "outputs": [
    {
     "name": "stdout",
     "output_type": "stream",
     "text": [
      "         Player_Name Best_Bowling_Match  Wickets  Runs_Conceded\n",
      "1021  Alzarri Joseph               6/12        6             12\n"
     ]
    }
   ],
   "execution_count": 51
  },
  {
   "metadata": {
    "ExecuteTime": {
     "end_time": "2025-05-31T10:18:12.420391Z",
     "start_time": "2025-05-31T10:18:12.409282Z"
    }
   },
   "cell_type": "code",
   "source": "df.info()",
   "id": "2bb6dad95da0c431",
   "outputs": [
    {
     "name": "stdout",
     "output_type": "stream",
     "text": [
      "<class 'pandas.core.frame.DataFrame'>\n",
      "RangeIndex: 1172 entries, 0 to 1171\n",
      "Data columns (total 26 columns):\n",
      " #   Column               Non-Null Count  Dtype  \n",
      "---  ------               --------------  -----  \n",
      " 0   Year                 1172 non-null   Int64  \n",
      " 1   Player_Name          1172 non-null   object \n",
      " 2   Matches_Batted       1172 non-null   Int64  \n",
      " 3   Not_Outs             1172 non-null   Int64  \n",
      " 4   Runs_Scored          1172 non-null   Int64  \n",
      " 5   Highest_Score        1172 non-null   Int64  \n",
      " 6   Batting_Average      1172 non-null   float64\n",
      " 7   Balls_Faced          1172 non-null   Int64  \n",
      " 8   Batting_Strike_Rate  1172 non-null   float64\n",
      " 9   Centuries            1172 non-null   Int64  \n",
      " 10  Half_Centuries       1172 non-null   Int64  \n",
      " 11  Fours                1172 non-null   Int64  \n",
      " 12  Sixes                1172 non-null   Int64  \n",
      " 13  Catches_Taken        1172 non-null   Int64  \n",
      " 14  Stumpings            1172 non-null   Int64  \n",
      " 15  Matches_Bowled       1172 non-null   Int64  \n",
      " 16  Balls_Bowled         1172 non-null   Int64  \n",
      " 17  Runs_Conceded        1172 non-null   Int64  \n",
      " 18  Wickets_Taken        1172 non-null   Int64  \n",
      " 19  Best_Bowling_Match   1172 non-null   object \n",
      " 20  Bowling_Average      1172 non-null   float64\n",
      " 21  Economy_Rate         1172 non-null   float64\n",
      " 22  Bowling_Strike_Rate  1172 non-null   float64\n",
      " 23  Four_Wicket_Hauls    1172 non-null   Int64  \n",
      " 24  Five_Wicket_Hauls    1172 non-null   Int64  \n",
      " 25  Highest_Score_Clean  1172 non-null   Int64  \n",
      "dtypes: Int64(19), float64(5), object(2)\n",
      "memory usage: 259.9+ KB\n"
     ]
    }
   ],
   "execution_count": 49
  },
  {
   "metadata": {
    "ExecuteTime": {
     "end_time": "2025-05-31T10:57:43.081658Z",
     "start_time": "2025-05-31T10:57:42.280426Z"
    }
   },
   "cell_type": "code",
   "source": [
    "import matplotlib.pyplot as plt\n",
    "\n",
    "top_batters = df.groupby(\"Player_Name\")[\"Runs_Scored\"].sum().sort_values(ascending=False).head(10)\n",
    "top_bowlers = df.groupby(\"Player_Name\")[\"Wickets_Taken\"].sum().sort_values(ascending=False).head(10)\n",
    "\n",
    "fig,axes=plt.subplots(1,2,figsize=(10,5))\n",
    "\n",
    "axes[0].bar(top_batters.index, top_batters.values, color=[\"red\",\"orange\",\"orange\",\"blue\",\"yellow\",\"red\",\"violet\",\"cornflowerblue\",\"red\",\"pink\"])\n",
    "axes[0].set_ylabel(\"Total Runs Scored\")\n",
    "axes[0].set_xlabel(\"Player Name\")\n",
    "axes[0].set_title(\"🏏 Top 10 Run Scorers\")\n",
    "axes[0].tick_params(rotation=90, axis=\"x\")  # Tilt names for readability\n",
    "axes[0].grid(True)\n",
    "\n",
    "axes[1].bar(top_bowlers.index, top_bowlers.values, color=[\"red\",\"blue\",\"darkblue\",\"pink\",\"orange\",\"violet\",\"yellow\",\"blue\",\"#1B2133\",\"violet\"])\n",
    "axes[1].set_ylabel(\"Total Wickets Taken\")\n",
    "axes[1].set_xlabel(\"Player Name\")\n",
    "axes[1].set_title(\"🏏 Top 10 Wickets Taker\")\n",
    "axes[1].tick_params(rotation=90, axis='x')  # Tilt names for readability\n",
    "plt.grid(True)\n",
    "\n",
    "plt.savefig(\"Images/top_players.png\",dpi=300, bbox_inches='tight')\n",
    "plt.tight_layout()\n",
    "plt.show()"
   ],
   "id": "adeab5f1d50be1c2",
   "outputs": [
    {
     "name": "stderr",
     "output_type": "stream",
     "text": [
      "C:\\Users\\fenil\\AppData\\Local\\Temp\\ipykernel_13396\\411280978.py:22: UserWarning: Glyph 127951 (\\N{CRICKET BAT AND BALL}) missing from font(s) DejaVu Sans.\n",
      "  plt.savefig(\"Images/top_players.png\",dpi=300, bbox_inches='tight')\n",
      "C:\\Users\\fenil\\anaconda3\\Lib\\site-packages\\IPython\\core\\pylabtools.py:170: UserWarning: Glyph 127951 (\\N{CRICKET BAT AND BALL}) missing from font(s) DejaVu Sans.\n",
      "  fig.canvas.print_figure(bytes_io, **kw)\n"
     ]
    },
    {
     "data": {
      "text/plain": [
       "<Figure size 1000x500 with 2 Axes>"
      ],
      "image/png": "[encoded data removed]"
     },
     "metadata": {},
     "output_type": "display_data"
    }
   ],
   "execution_count": 60
  },
  {
   "metadata": {},
   "cell_type": "code",
   "outputs": [],
   "execution_count": null,
   "source": "",
   "id": "7eb3b7f71476f0a0"
  }
 ],
 "metadata": {
  "kernelspec": {
   "display_name": "Python 3",
   "language": "python",
   "name": "python3"
  },
  "language_info": {
   "codemirror_mode": {
    "name": "ipython",
    "version": 2
   },
   "file_extension": ".py",
   "mimetype": "text/x-python",
   "name": "python",
   "nbconvert_exporter": "python",
   "pygments_lexer": "ipython2",
   "version": "2.7.6"
  }
 },
 "nbformat": 4,
 "nbformat_minor": 5
}
