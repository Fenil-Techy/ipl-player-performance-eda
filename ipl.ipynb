{
 "cells": [
  {
   "metadata": {},
   "cell_type": "markdown",
   "source": "# 🏏 IPL Player Performance Analysis (2008–2024)\n",
   "id": "27f3893d90f7007f"
  },
  {
   "metadata": {},
   "cell_type": "markdown",
   "source": [
    "## 1. Introduction\n",
    "\n",
    "The Indian Premier League (IPL) is one of the most exciting cricket tournaments in the world, bringing together top players from around the globe. In this project, I performed Exploratory Data Analysis (EDA) on a dataset containing season-wise statistics of IPL players.\n",
    "\n",
    "The goal is to extract meaningful insights about:\n",
    "- Top-performing batsmen and bowlers\n",
    "- Year-wise player trends\n",
    "- Strike rates, averages, economies\n",
    "- All-rounders and fielding performance\n",
    "\n",
    "Tools used: Python, Pandas, Matplotlib\n",
    "\n"
   ],
   "id": "321a9ad7d5ca5be0"
  },
  {
   "metadata": {},
   "cell_type": "code",
   "outputs": [],
   "execution_count": null,
   "source": [
    "import pandas as pd\n",
    "df=pd.read_csv(\"data/ipl_data.csv\")\n",
    "print(df)"
   ],
   "id": "dce61b8085cb075"
  },
  {
   "metadata": {},
   "cell_type": "markdown",
   "source": "## 2. Dataset Overview\n",
   "id": "9d33ddbf4dfa23c2"
  },
  {
   "metadata": {},
   "cell_type": "code",
   "outputs": [],
   "execution_count": null,
   "source": [
    "print(\"Shape:\", df.shape)\n",
    "print(df.head())\n",
    "df.info()\n",
    "df.describe()"
   ],
   "id": "8ae2be20cd649e63"
  },
  {
   "metadata": {},
   "cell_type": "markdown",
   "source": "## 3. Data Cleaning\n",
   "id": "791e6b319860ff5b"
  },
  {
   "metadata": {},
   "cell_type": "markdown",
   "source": "#### 1. dtype: object to float\n",
   "id": "dcaefe7ed4489892"
  },
  {
   "metadata": {},
   "cell_type": "code",
   "outputs": [],
   "execution_count": null,
   "source": [
    "list=[\"Batting_Strike_Rate\",\"Batting_Average\",\"Bowling_Average\",\"Economy_Rate\",\"Bowling_Strike_Rate\"]\n",
    "for col in list:\n",
    "        df[col]=pd.to_numeric(df[col],errors='coerce').astype(\"float\")"
   ],
   "id": "59d1cc2ce446743"
  },
  {
   "metadata": {},
   "cell_type": "markdown",
   "source": "#### 2. dtype: object to int",
   "id": "bbf20bc18500fe25"
  },
  {
   "metadata": {},
   "cell_type": "code",
   "outputs": [],
   "execution_count": null,
   "source": [
    "list2=[\"Year\",\"Matches_Batted\",\"Not_Outs\",\"Runs_Scored\",\"Balls_Faced\",\"Centuries\",\"Half_Centuries\",\"Fours\",\"Sixes\",\"Catches_Taken\",\"Stumpings\",\"Matches_Bowled\",\"Balls_Bowled\",\"Runs_Conceded\",\"Wickets_Taken\",\"Four_Wicket_Hauls\",\"Five_Wicket_Hauls\"]\n",
    "for col in list2:\n",
    "    df[col]=pd.to_numeric(df[col],errors='coerce').astype(\"Int64\")"
   ],
   "id": "ebfc3f617c572d97"
  },
  {
   "metadata": {},
   "cell_type": "markdown",
   "source": "#### 3. cleaning [\"Highest_Score]",
   "id": "83ec76d728ae53b0"
  },
  {
   "metadata": {},
   "cell_type": "code",
   "outputs": [],
   "execution_count": null,
   "source": [
    "df[\"Highest_Score\"] = (\n",
    "    df[\"Highest_Score\"]\n",
    "    .astype(str)                              # ensure it's string\n",
    "    .str.extract('(\\d+)')                     # extract only the number part\n",
    "    .astype(\"Int64\")                          # convert to integer (nullable)\n",
    ")"
   ],
   "id": "d547463e69ad73ea"
  },
  {
   "metadata": {},
   "cell_type": "markdown",
   "source": "#### 4.Check total null values",
   "id": "d23da5c4f0bb1f90"
  },
  {
   "metadata": {},
   "cell_type": "code",
   "outputs": [],
   "execution_count": null,
   "source": "df.isnull().sum()",
   "id": "8b257aa5450c9c10"
  },
  {
   "metadata": {},
   "cell_type": "markdown",
   "source": "## 4. Exploratory Data Analysis\n",
   "id": "3e6d6d6f358f5db8"
  },
  {
   "metadata": {},
   "cell_type": "markdown",
   "source": "### 4.1 Batting Analysis",
   "id": "d9e14d4e9334fbf7"
  },
  {
   "metadata": {},
   "cell_type": "markdown",
   "source": "1.Who are the top 10 run-scorers across all years?",
   "id": "b54026de0a2ab46c"
  },
  {
   "metadata": {},
   "cell_type": "code",
   "outputs": [],
   "execution_count": null,
   "source": [
    "top_scorer=(\n",
    "    df.groupby(\"Player_Name\")[\"Runs_Scored\"]\n",
    "    .sum()\n",
    "    .sort_values(ascending=False)\n",
    "    .head(10)\n",
    "    .reset_index()\n",
    ")\n",
    "print(top_scorer)"
   ],
   "id": "5cbf71eedf1ed0a5"
  },
  {
   "metadata": {},
   "cell_type": "markdown",
   "source": "2.Who had the best strike rate (min 100 runs)?\n",
   "id": "d5cffecf4ac45e58"
  },
  {
   "metadata": {},
   "cell_type": "code",
   "outputs": [],
   "execution_count": null,
   "source": [
    "filtered_df=df[(df[\"Batting_Strike_Rate\"]>100) & (df[\"Balls_Faced\"]>=100)]\n",
    "best_rate=filtered_df.sort_values(by=\"Batting_Strike_Rate\",ascending=False).head(1)\n",
    "print(best_rate[[\"Player_Name\", \"Runs_Scored\", \"Balls_Faced\", \"Batting_Strike_Rate\"]])"
   ],
   "id": "fc7c9ae5097f2345"
  },
  {
   "metadata": {},
   "cell_type": "markdown",
   "source": "3.Top 5 players with the most 50s and 100s?\n",
   "id": "e2f1e576c957e06b"
  },
  {
   "metadata": {},
   "cell_type": "code",
   "outputs": [],
   "execution_count": null,
   "source": [
    "half_centuries=df.groupby(\"Player_Name\")[\"Half_Centuries\"].sum().sort_values(ascending=False).head(5)\n",
    "print(\"Most 50s by player\")\n",
    "print(half_centuries)\n",
    "centuries=df.groupby(\"Player_Name\")[\"Centuries\"].sum().sort_values(ascending=False).head(5)\n",
    "print(\"\\nMost 100s by player\\n\")\n",
    "print(centuries)\n",
    "\n",
    "\n"
   ],
   "id": "2f820e18b2252de9"
  },
  {
   "metadata": {},
   "cell_type": "markdown",
   "source": "4.Top players with best batting average (min 200 runs)?",
   "id": "3799072e9c0fb410"
  },
  {
   "metadata": {},
   "cell_type": "code",
   "outputs": [],
   "execution_count": null,
   "source": [
    "filtered_df=df[df[\"Runs_Scored\"]>200]\n",
    "best_avg=filtered_df.groupby(\"Player_Name\")[\"Batting_Average\"].mean().sort_values(ascending=False).head(5)\n",
    "print(best_avg)"
   ],
   "id": "327816e36d11125b"
  },
  {
   "metadata": {},
   "cell_type": "markdown",
   "source": "### 4.2 Bowling Analysis",
   "id": "ae23c74850adac5e"
  },
  {
   "metadata": {},
   "cell_type": "markdown",
   "source": "1.Top 10 wicket-takers of all time?\n",
   "id": "b96008db9bfc5cb6"
  },
  {
   "metadata": {},
   "cell_type": "code",
   "outputs": [],
   "execution_count": null,
   "source": [
    "top_wickets=df.groupby(\"Player_Name\")[\"Wickets_Taken\"].sum().sort_values(ascending=False).head(10)\n",
    "print(top_wickets)"
   ],
   "id": "db57ce68f7ce65aa"
  },
  {
   "metadata": {},
   "cell_type": "markdown",
   "source": "2.Who had the best economy (min 5 matches)?",
   "id": "95265c149f414723"
  },
  {
   "metadata": {},
   "cell_type": "code",
   "outputs": [],
   "execution_count": null,
   "source": [
    "filtered_df=df[df[\"Balls_Bowled\"]>30]\n",
    "economy= filtered_df.groupby(\"Player_Name\")[\"Economy_Rate\"].mean()\n",
    "best_economy=economy.min()\n",
    "top_economy=economy[economy==best_economy]\n",
    "print(top_economy)\n"
   ],
   "id": "4f764be71b01e37b"
  },
  {
   "metadata": {},
   "cell_type": "markdown",
   "source": "3.Most consistent bowlers across years?",
   "id": "d223a211f2763d59"
  },
  {
   "metadata": {},
   "cell_type": "code",
   "outputs": [],
   "execution_count": null,
   "source": [
    "filtered_df=df[df[\"Balls_Bowled\"]>30]\n",
    "consistent_bowler=filtered_df.groupby(\"Player_Name\")[\"Economy_Rate\"].mean().sort_values(ascending=True).head(10)\n",
    "print(consistent_bowler)"
   ],
   "id": "f857c3ab873e755"
  },
  {
   "metadata": {},
   "cell_type": "markdown",
   "source": "4.Best bowling figures in a match?",
   "id": "ef06cddb27b6d6bb"
  },
  {
   "metadata": {},
   "cell_type": "code",
   "outputs": [],
   "execution_count": null,
   "source": [
    "\n",
    "df[['Wickets', 'Runs_Conceded']] = df['Best_Bowling_Match'].str.extract(r'(\\d+)/(\\d+)').astype('Int64')\n",
    "best = df.sort_values(by=[\"Wickets\", \"Runs_Conceded\"], ascending=[False, True]).head(5)\n",
    "print(best[[\"Player_Name\", \"Best_Bowling_Match\", \"Wickets\", \"Runs_Conceded\"]])\n"
   ],
   "id": "c7103afab9419069"
  },
  {
   "metadata": {},
   "cell_type": "markdown",
   "source": "### 4.4 Fielding Insights",
   "id": "a78c451ca1ec98ca"
  },
  {
   "metadata": {},
   "cell_type": "markdown",
   "source": "1.Most catches",
   "id": "badd90d9ef5cc11"
  },
  {
   "metadata": {},
   "cell_type": "code",
   "outputs": [],
   "execution_count": null,
   "source": [
    "most_catches=df.groupby(\"Player_Name\")[\"Catches_Taken\"].sum().sort_values(ascending=False).head(10)\n",
    "print(most_catches)"
   ],
   "id": "452b33e42658c1c9"
  },
  {
   "metadata": {},
   "cell_type": "markdown",
   "source": "2.Most stumpings",
   "id": "5964b9c8bc985969"
  },
  {
   "metadata": {},
   "cell_type": "code",
   "outputs": [],
   "execution_count": null,
   "source": [
    "most_stumpings=df.groupby(\"Player_Name\")[\"Stumpings\"].sum().sort_values(ascending=False).head(10)\n",
    "print(most_stumpings)"
   ],
   "id": "c5df1b018088ac9b"
  },
  {
   "metadata": {},
   "cell_type": "markdown",
   "source": "## 5.Data Visualisation of EDA",
   "id": "e87e22f98ab31086"
  },
  {
   "metadata": {},
   "cell_type": "markdown",
   "source": "1.Top batsmen and bowlers across all years\n",
   "id": "6a7d766cdb99069d"
  },
  {
   "metadata": {},
   "cell_type": "code",
   "outputs": [],
   "execution_count": null,
   "source": [
    "import matplotlib.pyplot as plt\n",
    "\n",
    "top_batters = df.groupby(\"Player_Name\")[\"Runs_Scored\"].sum().sort_values(ascending=False).head(10)\n",
    "top_bowlers = df.groupby(\"Player_Name\")[\"Wickets_Taken\"].sum().sort_values(ascending=False).head(10)\n",
    "\n",
    "fig,axes=plt.subplots(1,2,figsize=(10,5))\n",
    "\n",
    "axes[0].bar(top_batters.index, top_batters.values, color=[\"red\",\"orange\",\"orange\",\"blue\",\"yellow\",\"red\",\"violet\",\"cornflowerblue\",\"red\",\"pink\"])\n",
    "axes[0].set_ylabel(\"Total Runs Scored\")\n",
    "axes[0].set_xlabel(\"Player Name\")\n",
    "axes[0].set_title(\"🏏 Top 10 Run Scorers\")\n",
    "axes[0].tick_params(rotation=90, axis=\"x\")  # Tilt names for readability\n",
    "axes[0].grid(True)\n",
    "\n",
    "axes[1].bar(top_bowlers.index, top_bowlers.values, color=[\"red\",\"blue\",\"darkblue\",\"pink\",\"orange\",\"violet\",\"yellow\",\"blue\",\"#1B2133\",\"violet\"])\n",
    "axes[1].set_ylabel(\"Total Wickets Taken\")\n",
    "axes[1].set_xlabel(\"Player Name\")\n",
    "axes[1].set_title(\"🏏 Top 10 Wickets Taker\")\n",
    "axes[1].tick_params(rotation=90, axis='x')  # Tilt names for readability\n",
    "plt.grid(True)\n",
    "\n",
    "plt.savefig(\"Images/top_players.png\",dpi=300, bbox_inches='tight')\n",
    "plt.tight_layout()\n",
    "plt.show()\n"
   ],
   "id": "760d0c6a387a3932"
  },
  {
   "metadata": {},
   "cell_type": "markdown",
   "source": [
    "📌 Observation:\n",
    " 1. Virat Kohli remains the top run scorer across all IPL seasons, consistently leading with over 6000+ runs.\n",
    " 2. Yuzvendra Chahal remains the top wicket taker across all IPL seasons\n"
   ],
   "id": "bfcadcf556157ed7"
  },
  {
   "metadata": {},
   "cell_type": "markdown",
   "source": "2.Line charts (Year-wise trends)\n",
   "id": "462ff25143ed1300"
  },
  {
   "metadata": {},
   "cell_type": "code",
   "outputs": [],
   "execution_count": null,
   "source": [
    "import matplotlib.pyplot as plt\n",
    "\n",
    "players=[\"MS Dhoni\",\"Virat Kohli\",\"Rohit Sharma\"]\n",
    "\n",
    "plt.figure(figsize=(10,5))\n",
    "for player in players:\n",
    "    player_data=df[df[\"Player_Name\"]==player]\n",
    "    yearly_data=player_data.groupby(\"Year\")[\"Runs_Scored\"].sum()\n",
    "    plt.plot(yearly_data.index,yearly_data.values,marker=\"o\",label=player)\n",
    "plt.title(\"📈 Year-wise Runs Scored by Key Players\")\n",
    "plt.xlabel(\"Year\")\n",
    "plt.ylabel(\"Runs Scored\")\n",
    "plt.legend()\n",
    "plt.grid(True)\n",
    "plt.tight_layout()\n",
    "plt.savefig(\"Images/year_wise_trends.png\",dpi=300,bbox_inches='tight')\n",
    "plt.show()"
   ],
   "id": "5183e78a956123d1"
  },
  {
   "metadata": {},
   "cell_type": "markdown",
   "source": "3.Scatter plots (e.g. SR vs Average)",
   "id": "878f4e6a239b09ba"
  },
  {
   "metadata": {},
   "cell_type": "code",
   "outputs": [],
   "execution_count": null,
   "source": [
    "import matplotlib.pyplot as plt\n",
    "\n",
    "# Filter out rows with NaN or zero in either column\n",
    "scatter_df = df[(df[\"Batting_Average\"].notna()) & (df[\"Batting_Strike_Rate\"].notna())]\n",
    "scatter_df = scatter_df[scatter_df[\"Runs_Scored\"] > 100]  # Optional: Minimum runs filter\n",
    "\n",
    "plt.figure(figsize=(10, 6))\n",
    "plt.scatter(scatter_df[\"Batting_Strike_Rate\"], scatter_df[\"Batting_Average\"], alpha=0.7, color='teal')\n",
    "\n",
    "plt.title(\"🎯 Strike Rate vs Batting Average\")\n",
    "plt.xlabel(\"Strike Rate\")\n",
    "plt.ylabel(\"Batting Average\")\n",
    "plt.grid(True)\n",
    "plt.savefig(\"Images/sr_vs_batting_avg.png\",dpi=300,bbox_inches='tight')\n",
    "plt.tight_layout()\n",
    "plt.show()\n"
   ],
   "id": "ef67fed53f590fa7"
  },
  {
   "metadata": {},
   "cell_type": "markdown",
   "source": "4.Box plots (distribution of scores)",
   "id": "be723b18bef1be2f"
  },
  {
   "metadata": {},
   "cell_type": "code",
   "outputs": [],
   "execution_count": null,
   "source": [
    "import matplotlib.pyplot as plt\n",
    "\n",
    "plt.figure(figsize=(10,6))\n",
    "plt.boxplot(df[\"Runs_Scored\"].dropna())\n",
    "plt.show()"
   ],
   "id": "76f17ea8cd6e58a1"
  },
  {
   "metadata": {},
   "cell_type": "markdown",
   "source": "5.Box plots(distribution od economy)",
   "id": "4e0afc07fb5c36d2"
  },
  {
   "metadata": {},
   "cell_type": "code",
   "outputs": [],
   "execution_count": null,
   "source": [
    "import matplotlib.pyplot as plt\n",
    "\n",
    "plt.figure(figsize=(10,6))\n",
    "plt.boxplot(df[\"Economy_Rate\"].dropna())\n",
    "plt.show()"
   ],
   "id": "d54fcb2849b5bbdb"
  },
  {
   "metadata": {},
   "cell_type": "markdown",
   "source": [
    "## 6. Conclusion\n",
    "\n",
    "- Virat Kohli is top run scorer across all IPL seasons\n",
    "- Andre Russell is playing with best batting strike rate among all batsmen\n",
    "- David Warner had scored most 50s\n",
    "- Virat Kohli had scores most 100s\n",
    "- Rinku Singh having best batting average among all\n",
    "- Yuzvendra Chahal is top wicket taker.\n",
    "- MS Dhoni had actively grabbed most catches and also done most stumpings\n",
    "- Kohli, Dhoni, and Rohit consistently lead in batting metrics\n",
    "- Rashid Khan and Bhuvneshwar Kumar stand out in bowling economy\n",
    "\n",
    "This EDA project strengthened my skills in pandas, groupby, and matplotlib. It also taught me how to extract business-level insights from sports data.\n"
   ],
   "id": "f244ee40b70435e"
  }
 ],
 "metadata": {
  "kernelspec": {
   "display_name": "Python 3",
   "language": "python",
   "name": "python3"
  },
  "language_info": {
   "codemirror_mode": {
    "name": "ipython",
    "version": 2
   },
   "file_extension": ".py",
   "mimetype": "text/x-python",
   "name": "python",
   "nbconvert_exporter": "python",
   "pygments_lexer": "ipython2",
   "version": "2.7.6"
  }
 },
 "nbformat": 4,
 "nbformat_minor": 5
}
